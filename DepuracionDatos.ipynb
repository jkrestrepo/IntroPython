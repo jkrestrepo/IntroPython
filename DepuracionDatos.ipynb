{
  "nbformat": 4,
  "nbformat_minor": 0,
  "metadata": {
    "colab": {
      "name": "DepuracionDatos.ipynb",
      "provenance": [],
      "collapsed_sections": [],
      "authorship_tag": "ABX9TyPFVm5MkbOb1fwSnJkwR/nW",
      "include_colab_link": true
    },
    "kernelspec": {
      "name": "python3",
      "display_name": "Python 3"
    },
    "language_info": {
      "name": "python"
    }
  },
  "cells": [
    {
      "cell_type": "markdown",
      "metadata": {
        "id": "view-in-github",
        "colab_type": "text"
      },
      "source": [
        "<a href=\"https://colab.research.google.com/github/jkrestrepo/IntroPython/blob/main/DepuracionDatos.ipynb\" target=\"_parent\"><img src=\"https://colab.research.google.com/assets/colab-badge.svg\" alt=\"Open In Colab\"/></a>"
      ]
    },
    {
      "cell_type": "markdown",
      "source": [
        "# **1) Descripción del Problema.**"
      ],
      "metadata": {
        "id": "EiunM4afDzpD"
      }
    },
    {
      "cell_type": "markdown",
      "source": [
        "# **2) Descripción de los Datos.**"
      ],
      "metadata": {
        "id": "1-lgClU3EQEt"
      }
    },
    {
      "cell_type": "code",
      "source": [
        "import numpy as np # Cálculo matricial\n",
        "import pandas as pd # Excel Python\n",
        "from datetime import time # Fechas\n",
        "import matplotlib.pyplot as plt # Gráficos\n",
        "import seaborn as sns # Gráficos estadísticos\n",
        "import os # Sistema\n",
        "pd.set_option(\"max_columns\",50)"
      ],
      "metadata": {
        "id": "_TzltdbwFGpd"
      },
      "execution_count": 12,
      "outputs": []
    },
    {
      "cell_type": "code",
      "source": [
        "os.getcwd()"
      ],
      "metadata": {
        "colab": {
          "base_uri": "https://localhost:8080/",
          "height": 35
        },
        "id": "J-5p3NFlGCp9",
        "outputId": "3c98aaf1-deaa-4f6a-f2db-7a90f14359a1"
      },
      "execution_count": 6,
      "outputs": [
        {
          "output_type": "execute_result",
          "data": {
            "text/plain": [
              "'/content'"
            ],
            "application/vnd.google.colaboratory.intrinsic+json": {
              "type": "string"
            }
          },
          "metadata": {},
          "execution_count": 6
        }
      ]
    },
    {
      "cell_type": "code",
      "source": [
        "RutaGithub=\"https://raw.githubusercontent.com/jkrestrepo/IntroPython/main/UCI_Credit_Card.csv\""
      ],
      "metadata": {
        "id": "uo4FeTDEIg68"
      },
      "execution_count": 8,
      "outputs": []
    },
    {
      "cell_type": "code",
      "source": [
        "df=pd.read_csv(RutaGithub)"
      ],
      "metadata": {
        "id": "VQbFcWVlJzpH"
      },
      "execution_count": 10,
      "outputs": []
    },
    {
      "cell_type": "code",
      "source": [
        "df.head(10)"
      ],
      "metadata": {
        "colab": {
          "base_uri": "https://localhost:8080/",
          "height": 427
        },
        "id": "xrut6b5eI5OG",
        "outputId": "f1a83078-01ee-40a9-cd01-c358ff21ab92"
      },
      "execution_count": 74,
      "outputs": [
        {
          "output_type": "execute_result",
          "data": {
            "text/plain": [
              "   ID  ValorCredito  Genero  Educacion  EstadoCivil  Edad  PAY_0  PAY_2  \\\n",
              "0   1       20000.0       2          2            1    24      2      2   \n",
              "1   2      120000.0       2          2            2    26     -1      2   \n",
              "2   3       90000.0       2          2            2    34      0      0   \n",
              "3   4       50000.0       2          2            1    37      0      0   \n",
              "4   5       50000.0       1          2            1    57     -1      0   \n",
              "5   6       50000.0       1          1            2    37      0      0   \n",
              "6   7      500000.0       1          1            2    29      0      0   \n",
              "7   8      100000.0       2          2            2    23      0     -1   \n",
              "8   9      140000.0       2          3            1    28      0      0   \n",
              "9  10       20000.0       1          3            2    35     -2     -2   \n",
              "\n",
              "   PAY_3  PAY_4  PAY_5  PAY_6  BILL_AMT1  BILL_AMT2  BILL_AMT3  BILL_AMT4  \\\n",
              "0     -1     -1     -2     -2     3913.0     3102.0      689.0        0.0   \n",
              "1      0      0      0      2     2682.0     1725.0     2682.0     3272.0   \n",
              "2      0      0      0      0    29239.0    14027.0    13559.0    14331.0   \n",
              "3      0      0      0      0    46990.0    48233.0    49291.0    28314.0   \n",
              "4     -1      0      0      0     8617.0     5670.0    35835.0    20940.0   \n",
              "5      0      0      0      0    64400.0    57069.0    57608.0    19394.0   \n",
              "6      0      0      0      0   367965.0   412023.0   445007.0   542653.0   \n",
              "7     -1      0      0     -1    11876.0      380.0      601.0      221.0   \n",
              "8      2      0      0      0    11285.0    14096.0    12108.0    12211.0   \n",
              "9     -2     -2     -1     -1        0.0        0.0        0.0        0.0   \n",
              "\n",
              "   BILL_AMT5  BILL_AMT6  PAY_AMT1  PAY_AMT2  PAY_AMT3  PAY_AMT4  PAY_AMT5  \\\n",
              "0        0.0        0.0       0.0     689.0       0.0       0.0       0.0   \n",
              "1     3455.0     3261.0       0.0    1000.0    1000.0    1000.0       0.0   \n",
              "2    14948.0    15549.0    1518.0    1500.0    1000.0    1000.0    1000.0   \n",
              "3    28959.0    29547.0    2000.0    2019.0    1200.0    1100.0    1069.0   \n",
              "4    19146.0    19131.0    2000.0   36681.0   10000.0    9000.0     689.0   \n",
              "5    19619.0    20024.0    2500.0    1815.0     657.0    1000.0    1000.0   \n",
              "6   483003.0   473944.0   55000.0   40000.0   38000.0   20239.0   13750.0   \n",
              "7     -159.0      567.0     380.0     601.0       0.0     581.0    1687.0   \n",
              "8    11793.0     3719.0    3329.0       0.0     432.0    1000.0    1000.0   \n",
              "9    13007.0    13912.0       0.0       0.0       0.0   13007.0    1122.0   \n",
              "\n",
              "   PAY_AMT6  Mora RangoPoblacional    Sexo  \n",
              "0       0.0     1            Joven   Mujer  \n",
              "1    2000.0     1            Joven   Mujer  \n",
              "2    5000.0     0           Adulto   Mujer  \n",
              "3    1000.0     0           Adulto   Mujer  \n",
              "4     679.0     0           Adulto  Hombre  \n",
              "5     800.0     0           Adulto  Hombre  \n",
              "6   13770.0     0            Joven  Hombre  \n",
              "7    1542.0     0            Joven   Mujer  \n",
              "8    1000.0     0            Joven   Mujer  \n",
              "9       0.0     0           Adulto  Hombre  "
            ],
            "text/html": [
              "\n",
              "  <div id=\"df-384188c4-bd0e-4d0d-a120-f79b78e701ee\">\n",
              "    <div class=\"colab-df-container\">\n",
              "      <div>\n",
              "<style scoped>\n",
              "    .dataframe tbody tr th:only-of-type {\n",
              "        vertical-align: middle;\n",
              "    }\n",
              "\n",
              "    .dataframe tbody tr th {\n",
              "        vertical-align: top;\n",
              "    }\n",
              "\n",
              "    .dataframe thead th {\n",
              "        text-align: right;\n",
              "    }\n",
              "</style>\n",
              "<table border=\"1\" class=\"dataframe\">\n",
              "  <thead>\n",
              "    <tr style=\"text-align: right;\">\n",
              "      <th></th>\n",
              "      <th>ID</th>\n",
              "      <th>ValorCredito</th>\n",
              "      <th>Genero</th>\n",
              "      <th>Educacion</th>\n",
              "      <th>EstadoCivil</th>\n",
              "      <th>Edad</th>\n",
              "      <th>PAY_0</th>\n",
              "      <th>PAY_2</th>\n",
              "      <th>PAY_3</th>\n",
              "      <th>PAY_4</th>\n",
              "      <th>PAY_5</th>\n",
              "      <th>PAY_6</th>\n",
              "      <th>BILL_AMT1</th>\n",
              "      <th>BILL_AMT2</th>\n",
              "      <th>BILL_AMT3</th>\n",
              "      <th>BILL_AMT4</th>\n",
              "      <th>BILL_AMT5</th>\n",
              "      <th>BILL_AMT6</th>\n",
              "      <th>PAY_AMT1</th>\n",
              "      <th>PAY_AMT2</th>\n",
              "      <th>PAY_AMT3</th>\n",
              "      <th>PAY_AMT4</th>\n",
              "      <th>PAY_AMT5</th>\n",
              "      <th>PAY_AMT6</th>\n",
              "      <th>Mora</th>\n",
              "      <th>RangoPoblacional</th>\n",
              "      <th>Sexo</th>\n",
              "    </tr>\n",
              "  </thead>\n",
              "  <tbody>\n",
              "    <tr>\n",
              "      <th>0</th>\n",
              "      <td>1</td>\n",
              "      <td>20000.0</td>\n",
              "      <td>2</td>\n",
              "      <td>2</td>\n",
              "      <td>1</td>\n",
              "      <td>24</td>\n",
              "      <td>2</td>\n",
              "      <td>2</td>\n",
              "      <td>-1</td>\n",
              "      <td>-1</td>\n",
              "      <td>-2</td>\n",
              "      <td>-2</td>\n",
              "      <td>3913.0</td>\n",
              "      <td>3102.0</td>\n",
              "      <td>689.0</td>\n",
              "      <td>0.0</td>\n",
              "      <td>0.0</td>\n",
              "      <td>0.0</td>\n",
              "      <td>0.0</td>\n",
              "      <td>689.0</td>\n",
              "      <td>0.0</td>\n",
              "      <td>0.0</td>\n",
              "      <td>0.0</td>\n",
              "      <td>0.0</td>\n",
              "      <td>1</td>\n",
              "      <td>Joven</td>\n",
              "      <td>Mujer</td>\n",
              "    </tr>\n",
              "    <tr>\n",
              "      <th>1</th>\n",
              "      <td>2</td>\n",
              "      <td>120000.0</td>\n",
              "      <td>2</td>\n",
              "      <td>2</td>\n",
              "      <td>2</td>\n",
              "      <td>26</td>\n",
              "      <td>-1</td>\n",
              "      <td>2</td>\n",
              "      <td>0</td>\n",
              "      <td>0</td>\n",
              "      <td>0</td>\n",
              "      <td>2</td>\n",
              "      <td>2682.0</td>\n",
              "      <td>1725.0</td>\n",
              "      <td>2682.0</td>\n",
              "      <td>3272.0</td>\n",
              "      <td>3455.0</td>\n",
              "      <td>3261.0</td>\n",
              "      <td>0.0</td>\n",
              "      <td>1000.0</td>\n",
              "      <td>1000.0</td>\n",
              "      <td>1000.0</td>\n",
              "      <td>0.0</td>\n",
              "      <td>2000.0</td>\n",
              "      <td>1</td>\n",
              "      <td>Joven</td>\n",
              "      <td>Mujer</td>\n",
              "    </tr>\n",
              "    <tr>\n",
              "      <th>2</th>\n",
              "      <td>3</td>\n",
              "      <td>90000.0</td>\n",
              "      <td>2</td>\n",
              "      <td>2</td>\n",
              "      <td>2</td>\n",
              "      <td>34</td>\n",
              "      <td>0</td>\n",
              "      <td>0</td>\n",
              "      <td>0</td>\n",
              "      <td>0</td>\n",
              "      <td>0</td>\n",
              "      <td>0</td>\n",
              "      <td>29239.0</td>\n",
              "      <td>14027.0</td>\n",
              "      <td>13559.0</td>\n",
              "      <td>14331.0</td>\n",
              "      <td>14948.0</td>\n",
              "      <td>15549.0</td>\n",
              "      <td>1518.0</td>\n",
              "      <td>1500.0</td>\n",
              "      <td>1000.0</td>\n",
              "      <td>1000.0</td>\n",
              "      <td>1000.0</td>\n",
              "      <td>5000.0</td>\n",
              "      <td>0</td>\n",
              "      <td>Adulto</td>\n",
              "      <td>Mujer</td>\n",
              "    </tr>\n",
              "    <tr>\n",
              "      <th>3</th>\n",
              "      <td>4</td>\n",
              "      <td>50000.0</td>\n",
              "      <td>2</td>\n",
              "      <td>2</td>\n",
              "      <td>1</td>\n",
              "      <td>37</td>\n",
              "      <td>0</td>\n",
              "      <td>0</td>\n",
              "      <td>0</td>\n",
              "      <td>0</td>\n",
              "      <td>0</td>\n",
              "      <td>0</td>\n",
              "      <td>46990.0</td>\n",
              "      <td>48233.0</td>\n",
              "      <td>49291.0</td>\n",
              "      <td>28314.0</td>\n",
              "      <td>28959.0</td>\n",
              "      <td>29547.0</td>\n",
              "      <td>2000.0</td>\n",
              "      <td>2019.0</td>\n",
              "      <td>1200.0</td>\n",
              "      <td>1100.0</td>\n",
              "      <td>1069.0</td>\n",
              "      <td>1000.0</td>\n",
              "      <td>0</td>\n",
              "      <td>Adulto</td>\n",
              "      <td>Mujer</td>\n",
              "    </tr>\n",
              "    <tr>\n",
              "      <th>4</th>\n",
              "      <td>5</td>\n",
              "      <td>50000.0</td>\n",
              "      <td>1</td>\n",
              "      <td>2</td>\n",
              "      <td>1</td>\n",
              "      <td>57</td>\n",
              "      <td>-1</td>\n",
              "      <td>0</td>\n",
              "      <td>-1</td>\n",
              "      <td>0</td>\n",
              "      <td>0</td>\n",
              "      <td>0</td>\n",
              "      <td>8617.0</td>\n",
              "      <td>5670.0</td>\n",
              "      <td>35835.0</td>\n",
              "      <td>20940.0</td>\n",
              "      <td>19146.0</td>\n",
              "      <td>19131.0</td>\n",
              "      <td>2000.0</td>\n",
              "      <td>36681.0</td>\n",
              "      <td>10000.0</td>\n",
              "      <td>9000.0</td>\n",
              "      <td>689.0</td>\n",
              "      <td>679.0</td>\n",
              "      <td>0</td>\n",
              "      <td>Adulto</td>\n",
              "      <td>Hombre</td>\n",
              "    </tr>\n",
              "    <tr>\n",
              "      <th>5</th>\n",
              "      <td>6</td>\n",
              "      <td>50000.0</td>\n",
              "      <td>1</td>\n",
              "      <td>1</td>\n",
              "      <td>2</td>\n",
              "      <td>37</td>\n",
              "      <td>0</td>\n",
              "      <td>0</td>\n",
              "      <td>0</td>\n",
              "      <td>0</td>\n",
              "      <td>0</td>\n",
              "      <td>0</td>\n",
              "      <td>64400.0</td>\n",
              "      <td>57069.0</td>\n",
              "      <td>57608.0</td>\n",
              "      <td>19394.0</td>\n",
              "      <td>19619.0</td>\n",
              "      <td>20024.0</td>\n",
              "      <td>2500.0</td>\n",
              "      <td>1815.0</td>\n",
              "      <td>657.0</td>\n",
              "      <td>1000.0</td>\n",
              "      <td>1000.0</td>\n",
              "      <td>800.0</td>\n",
              "      <td>0</td>\n",
              "      <td>Adulto</td>\n",
              "      <td>Hombre</td>\n",
              "    </tr>\n",
              "    <tr>\n",
              "      <th>6</th>\n",
              "      <td>7</td>\n",
              "      <td>500000.0</td>\n",
              "      <td>1</td>\n",
              "      <td>1</td>\n",
              "      <td>2</td>\n",
              "      <td>29</td>\n",
              "      <td>0</td>\n",
              "      <td>0</td>\n",
              "      <td>0</td>\n",
              "      <td>0</td>\n",
              "      <td>0</td>\n",
              "      <td>0</td>\n",
              "      <td>367965.0</td>\n",
              "      <td>412023.0</td>\n",
              "      <td>445007.0</td>\n",
              "      <td>542653.0</td>\n",
              "      <td>483003.0</td>\n",
              "      <td>473944.0</td>\n",
              "      <td>55000.0</td>\n",
              "      <td>40000.0</td>\n",
              "      <td>38000.0</td>\n",
              "      <td>20239.0</td>\n",
              "      <td>13750.0</td>\n",
              "      <td>13770.0</td>\n",
              "      <td>0</td>\n",
              "      <td>Joven</td>\n",
              "      <td>Hombre</td>\n",
              "    </tr>\n",
              "    <tr>\n",
              "      <th>7</th>\n",
              "      <td>8</td>\n",
              "      <td>100000.0</td>\n",
              "      <td>2</td>\n",
              "      <td>2</td>\n",
              "      <td>2</td>\n",
              "      <td>23</td>\n",
              "      <td>0</td>\n",
              "      <td>-1</td>\n",
              "      <td>-1</td>\n",
              "      <td>0</td>\n",
              "      <td>0</td>\n",
              "      <td>-1</td>\n",
              "      <td>11876.0</td>\n",
              "      <td>380.0</td>\n",
              "      <td>601.0</td>\n",
              "      <td>221.0</td>\n",
              "      <td>-159.0</td>\n",
              "      <td>567.0</td>\n",
              "      <td>380.0</td>\n",
              "      <td>601.0</td>\n",
              "      <td>0.0</td>\n",
              "      <td>581.0</td>\n",
              "      <td>1687.0</td>\n",
              "      <td>1542.0</td>\n",
              "      <td>0</td>\n",
              "      <td>Joven</td>\n",
              "      <td>Mujer</td>\n",
              "    </tr>\n",
              "    <tr>\n",
              "      <th>8</th>\n",
              "      <td>9</td>\n",
              "      <td>140000.0</td>\n",
              "      <td>2</td>\n",
              "      <td>3</td>\n",
              "      <td>1</td>\n",
              "      <td>28</td>\n",
              "      <td>0</td>\n",
              "      <td>0</td>\n",
              "      <td>2</td>\n",
              "      <td>0</td>\n",
              "      <td>0</td>\n",
              "      <td>0</td>\n",
              "      <td>11285.0</td>\n",
              "      <td>14096.0</td>\n",
              "      <td>12108.0</td>\n",
              "      <td>12211.0</td>\n",
              "      <td>11793.0</td>\n",
              "      <td>3719.0</td>\n",
              "      <td>3329.0</td>\n",
              "      <td>0.0</td>\n",
              "      <td>432.0</td>\n",
              "      <td>1000.0</td>\n",
              "      <td>1000.0</td>\n",
              "      <td>1000.0</td>\n",
              "      <td>0</td>\n",
              "      <td>Joven</td>\n",
              "      <td>Mujer</td>\n",
              "    </tr>\n",
              "    <tr>\n",
              "      <th>9</th>\n",
              "      <td>10</td>\n",
              "      <td>20000.0</td>\n",
              "      <td>1</td>\n",
              "      <td>3</td>\n",
              "      <td>2</td>\n",
              "      <td>35</td>\n",
              "      <td>-2</td>\n",
              "      <td>-2</td>\n",
              "      <td>-2</td>\n",
              "      <td>-2</td>\n",
              "      <td>-1</td>\n",
              "      <td>-1</td>\n",
              "      <td>0.0</td>\n",
              "      <td>0.0</td>\n",
              "      <td>0.0</td>\n",
              "      <td>0.0</td>\n",
              "      <td>13007.0</td>\n",
              "      <td>13912.0</td>\n",
              "      <td>0.0</td>\n",
              "      <td>0.0</td>\n",
              "      <td>0.0</td>\n",
              "      <td>13007.0</td>\n",
              "      <td>1122.0</td>\n",
              "      <td>0.0</td>\n",
              "      <td>0</td>\n",
              "      <td>Adulto</td>\n",
              "      <td>Hombre</td>\n",
              "    </tr>\n",
              "  </tbody>\n",
              "</table>\n",
              "</div>\n",
              "      <button class=\"colab-df-convert\" onclick=\"convertToInteractive('df-384188c4-bd0e-4d0d-a120-f79b78e701ee')\"\n",
              "              title=\"Convert this dataframe to an interactive table.\"\n",
              "              style=\"display:none;\">\n",
              "        \n",
              "  <svg xmlns=\"http://www.w3.org/2000/svg\" height=\"24px\"viewBox=\"0 0 24 24\"\n",
              "       width=\"24px\">\n",
              "    <path d=\"M0 0h24v24H0V0z\" fill=\"none\"/>\n",
              "    <path d=\"M18.56 5.44l.94 2.06.94-2.06 2.06-.94-2.06-.94-.94-2.06-.94 2.06-2.06.94zm-11 1L8.5 8.5l.94-2.06 2.06-.94-2.06-.94L8.5 2.5l-.94 2.06-2.06.94zm10 10l.94 2.06.94-2.06 2.06-.94-2.06-.94-.94-2.06-.94 2.06-2.06.94z\"/><path d=\"M17.41 7.96l-1.37-1.37c-.4-.4-.92-.59-1.43-.59-.52 0-1.04.2-1.43.59L10.3 9.45l-7.72 7.72c-.78.78-.78 2.05 0 2.83L4 21.41c.39.39.9.59 1.41.59.51 0 1.02-.2 1.41-.59l7.78-7.78 2.81-2.81c.8-.78.8-2.07 0-2.86zM5.41 20L4 18.59l7.72-7.72 1.47 1.35L5.41 20z\"/>\n",
              "  </svg>\n",
              "      </button>\n",
              "      \n",
              "  <style>\n",
              "    .colab-df-container {\n",
              "      display:flex;\n",
              "      flex-wrap:wrap;\n",
              "      gap: 12px;\n",
              "    }\n",
              "\n",
              "    .colab-df-convert {\n",
              "      background-color: #E8F0FE;\n",
              "      border: none;\n",
              "      border-radius: 50%;\n",
              "      cursor: pointer;\n",
              "      display: none;\n",
              "      fill: #1967D2;\n",
              "      height: 32px;\n",
              "      padding: 0 0 0 0;\n",
              "      width: 32px;\n",
              "    }\n",
              "\n",
              "    .colab-df-convert:hover {\n",
              "      background-color: #E2EBFA;\n",
              "      box-shadow: 0px 1px 2px rgba(60, 64, 67, 0.3), 0px 1px 3px 1px rgba(60, 64, 67, 0.15);\n",
              "      fill: #174EA6;\n",
              "    }\n",
              "\n",
              "    [theme=dark] .colab-df-convert {\n",
              "      background-color: #3B4455;\n",
              "      fill: #D2E3FC;\n",
              "    }\n",
              "\n",
              "    [theme=dark] .colab-df-convert:hover {\n",
              "      background-color: #434B5C;\n",
              "      box-shadow: 0px 1px 3px 1px rgba(0, 0, 0, 0.15);\n",
              "      filter: drop-shadow(0px 1px 2px rgba(0, 0, 0, 0.3));\n",
              "      fill: #FFFFFF;\n",
              "    }\n",
              "  </style>\n",
              "\n",
              "      <script>\n",
              "        const buttonEl =\n",
              "          document.querySelector('#df-384188c4-bd0e-4d0d-a120-f79b78e701ee button.colab-df-convert');\n",
              "        buttonEl.style.display =\n",
              "          google.colab.kernel.accessAllowed ? 'block' : 'none';\n",
              "\n",
              "        async function convertToInteractive(key) {\n",
              "          const element = document.querySelector('#df-384188c4-bd0e-4d0d-a120-f79b78e701ee');\n",
              "          const dataTable =\n",
              "            await google.colab.kernel.invokeFunction('convertToInteractive',\n",
              "                                                     [key], {});\n",
              "          if (!dataTable) return;\n",
              "\n",
              "          const docLinkHtml = 'Like what you see? Visit the ' +\n",
              "            '<a target=\"_blank\" href=https://colab.research.google.com/notebooks/data_table.ipynb>data table notebook</a>'\n",
              "            + ' to learn more about interactive tables.';\n",
              "          element.innerHTML = '';\n",
              "          dataTable['output_type'] = 'display_data';\n",
              "          await google.colab.output.renderOutput(dataTable, element);\n",
              "          const docLink = document.createElement('div');\n",
              "          docLink.innerHTML = docLinkHtml;\n",
              "          element.appendChild(docLink);\n",
              "        }\n",
              "      </script>\n",
              "    </div>\n",
              "  </div>\n",
              "  "
            ]
          },
          "metadata": {},
          "execution_count": 74
        }
      ]
    },
    {
      "cell_type": "markdown",
      "source": [
        "## **2) Diccionario de variables**\n",
        "\n",
        "* ID : ID de cada cliente\n",
        "* Monto_Credito : cantidad del crédito otorgado en dólares NT (incluye crédito individual y familiar / suplementario\n",
        "* SEXO : Género (1 = masculino, 2 = femenino)\n",
        "* EDUCACIÓN : (1 = posgrado, 2 = universidad, 3 = bachillerato, 4 = otros, 5 = desconocido, 6 = desconocido)\n",
        "* MATRIMONIO : Estado civil (1 = casado, 2 = soltero, 3 = otros)\n",
        "* EDAD : Edad en años\n",
        "* PAY_0 : Estado de reembolso en septiembre de 2005 (-1 = pago debidamente, 1 = retraso en el pago durante un mes,**bold text**"
      ],
      "metadata": {
        "id": "-31jV6c2KhHh"
      }
    },
    {
      "cell_type": "code",
      "source": [
        "df.shape ## Tamaño de filas y columnas"
      ],
      "metadata": {
        "colab": {
          "base_uri": "https://localhost:8080/"
        },
        "id": "ZJvHgYZFLY2_",
        "outputId": "9ac83b6b-4b2f-4e6e-94b7-f3560bcb320d"
      },
      "execution_count": 15,
      "outputs": [
        {
          "output_type": "execute_result",
          "data": {
            "text/plain": [
              "(30000, 25)"
            ]
          },
          "metadata": {},
          "execution_count": 15
        }
      ]
    },
    {
      "cell_type": "code",
      "source": [
        "print(f'La base de datos tiene: {df.shape[0]} registros, y {df.shape[1]} campos.')"
      ],
      "metadata": {
        "colab": {
          "base_uri": "https://localhost:8080/"
        },
        "id": "G3fKabybLkIX",
        "outputId": "49f10d09-96b7-4f63-c5c6-2b396046902c"
      },
      "execution_count": 20,
      "outputs": [
        {
          "output_type": "stream",
          "name": "stdout",
          "text": [
            "La base de datos tiene: 30000 registros, y 25 campos.\n"
          ]
        }
      ]
    },
    {
      "cell_type": "code",
      "source": [
        "df.columns.to_list()"
      ],
      "metadata": {
        "id": "gJRubGmWMKMN"
      },
      "execution_count": null,
      "outputs": []
    },
    {
      "cell_type": "markdown",
      "source": [
        "# **3) Depuración BD"
      ],
      "metadata": {
        "id": "MCZBAXV5M3B3"
      }
    },
    {
      "cell_type": "markdown",
      "source": [
        "## Renombrar variables"
      ],
      "metadata": {
        "id": "oYy9XfChNH0f"
      }
    },
    {
      "cell_type": "code",
      "source": [
        "df.rename(columns={\"LIMIT_BAL\":\"ValorCredito\",\n",
        "                   \"SEX\":\"Genero\",\n",
        "                   \"EDUCATION\":\"Educacion\",\n",
        "                   \"MARRIAGE\":\"EstadoCivil\",\n",
        "                   \"AGE\":\"Edad\",\n",
        "                   \"default.payment.next.month\":\"Mora\"},inplace=True)"
      ],
      "metadata": {
        "id": "1FpVEz5kMyMz"
      },
      "execution_count": 28,
      "outputs": []
    },
    {
      "cell_type": "markdown",
      "source": [
        "### **Estructuras de control**"
      ],
      "metadata": {
        "id": "1Qu4BPiVSDVW"
      }
    },
    {
      "cell_type": "code",
      "source": [
        "df.Edad[45]"
      ],
      "metadata": {
        "colab": {
          "base_uri": "https://localhost:8080/"
        },
        "id": "TA7SrAr2SBnK",
        "outputId": "836279cc-8320-434f-e6f5-9d79e2500a38"
      },
      "execution_count": 42,
      "outputs": [
        {
          "output_type": "execute_result",
          "data": {
            "text/plain": [
              "29"
            ]
          },
          "metadata": {},
          "execution_count": 42
        }
      ]
    },
    {
      "cell_type": "code",
      "source": [
        "Edad=df.Edad[45]\n",
        "print(Edad)"
      ],
      "metadata": {
        "colab": {
          "base_uri": "https://localhost:8080/"
        },
        "id": "KNZygCTNScDt",
        "outputId": "3309540b-f836-4c02-fadf-d6ff7f4b8229"
      },
      "execution_count": 43,
      "outputs": [
        {
          "output_type": "stream",
          "name": "stdout",
          "text": [
            "29\n"
          ]
        }
      ]
    },
    {
      "cell_type": "code",
      "source": [
        "if (Edad >= 18):\n",
        "  GrupoPoblacional=\"MayorEdad\"\n",
        "else:\n",
        "  GrupoPoblacional=\"MenorEdad\"  "
      ],
      "metadata": {
        "id": "DQOAUsXIS0IH"
      },
      "execution_count": 37,
      "outputs": []
    },
    {
      "cell_type": "code",
      "source": [
        "print(GrupoPoblacional)"
      ],
      "metadata": {
        "colab": {
          "base_uri": "https://localhost:8080/"
        },
        "id": "AZVCaCcITL4F",
        "outputId": "03ac117d-6845-4e3b-8b15-3264ed948d03"
      },
      "execution_count": 40,
      "outputs": [
        {
          "output_type": "stream",
          "name": "stdout",
          "text": [
            "Adulto\n"
          ]
        }
      ]
    },
    {
      "cell_type": "code",
      "source": [
        "if (Edad >= 18 and Edad <= 30):\n",
        "  GrupoPoblacional=\"Joven\"\n",
        "elif (Edad > 30 and Edad <= 60):\n",
        "  GrupoPoblacional=\"Adulto\"\n",
        "elif (Edad > 60 and Edad <= 110):\n",
        "  GrupoPoblacional=\"AdultoMayor\"\n",
        "elif (Edad > 110):\n",
        "  GrupoPoblacional=\"ValidarAdultoMayor\"\n",
        "else:\n",
        "  GrupoPoblacional=\"ValidarMenorEdad\""
      ],
      "metadata": {
        "id": "FIpKer7tTZeM"
      },
      "execution_count": 46,
      "outputs": []
    },
    {
      "cell_type": "code",
      "source": [
        "GrupoPoblacional"
      ],
      "metadata": {
        "colab": {
          "base_uri": "https://localhost:8080/",
          "height": 35
        },
        "id": "KjxaZJ6oVHe1",
        "outputId": "0839ac19-1279-40b4-ddcf-7e12cb762dfc"
      },
      "execution_count": 47,
      "outputs": [
        {
          "output_type": "execute_result",
          "data": {
            "text/plain": [
              "'Joven'"
            ],
            "application/vnd.google.colaboratory.intrinsic+json": {
              "type": "string"
            }
          },
          "metadata": {},
          "execution_count": 47
        }
      ]
    },
    {
      "cell_type": "markdown",
      "source": [
        "# Funciones"
      ],
      "metadata": {
        "id": "0L28HZr7U-Ei"
      }
    },
    {
      "cell_type": "code",
      "source": [
        "def SumaDosNumeros(x,y):\n",
        "  suma=x+y\n",
        "  return suma"
      ],
      "metadata": {
        "id": "8Q80-N3eVsun"
      },
      "execution_count": 48,
      "outputs": []
    },
    {
      "cell_type": "code",
      "source": [
        "SumaDosNumeros(8,6.85)"
      ],
      "metadata": {
        "colab": {
          "base_uri": "https://localhost:8080/"
        },
        "id": "ZHhi3zBZV9sY",
        "outputId": "1a53ac39-5913-4906-ac8b-5760c3771280"
      },
      "execution_count": 52,
      "outputs": [
        {
          "output_type": "execute_result",
          "data": {
            "text/plain": [
              "14.85"
            ]
          },
          "metadata": {},
          "execution_count": 52
        }
      ]
    },
    {
      "cell_type": "code",
      "source": [
        "def CalculoRangoPoblacional(Edad):\n",
        "  if (Edad >= 18 and Edad <= 30):\n",
        "    GrupoPoblacional=\"Joven\"\n",
        "  elif (Edad > 30 and Edad <= 60):\n",
        "    GrupoPoblacional=\"Adulto\"\n",
        "  elif (Edad > 60 and Edad <= 110):\n",
        "    GrupoPoblacional=\"AdultoMayor\"\n",
        "  elif (Edad > 110):\n",
        "    GrupoPoblacional=\"ValidarAdultoMayor\"\n",
        "  else:\n",
        "    GrupoPoblacional=\"ValidarMenorEdad\"\n",
        "  return GrupoPoblacional"
      ],
      "metadata": {
        "id": "MLy-YQCzWOxw"
      },
      "execution_count": 54,
      "outputs": []
    },
    {
      "cell_type": "code",
      "source": [
        "CalculoRangoPoblacional(df.Edad[6])"
      ],
      "metadata": {
        "colab": {
          "base_uri": "https://localhost:8080/",
          "height": 35
        },
        "id": "RfsuUwjxWndI",
        "outputId": "ec333da8-e326-4b98-c9f1-eff2a3594449"
      },
      "execution_count": 62,
      "outputs": [
        {
          "output_type": "execute_result",
          "data": {
            "text/plain": [
              "'Joven'"
            ],
            "application/vnd.google.colaboratory.intrinsic+json": {
              "type": "string"
            }
          },
          "metadata": {},
          "execution_count": 62
        }
      ]
    },
    {
      "cell_type": "code",
      "source": [
        "df.Edad.apply(CalculoRangoPoblacional) ## Aplicar nuestra función a toda la BBDD"
      ],
      "metadata": {
        "colab": {
          "base_uri": "https://localhost:8080/"
        },
        "id": "Z0Hgp4duXL01",
        "outputId": "35f310ab-de75-4c5d-a801-a12088624f0e"
      },
      "execution_count": 63,
      "outputs": [
        {
          "output_type": "execute_result",
          "data": {
            "text/plain": [
              "0         Joven\n",
              "1         Joven\n",
              "2        Adulto\n",
              "3        Adulto\n",
              "4        Adulto\n",
              "          ...  \n",
              "29995    Adulto\n",
              "29996    Adulto\n",
              "29997    Adulto\n",
              "29998    Adulto\n",
              "29999    Adulto\n",
              "Name: Edad, Length: 30000, dtype: object"
            ]
          },
          "metadata": {},
          "execution_count": 63
        }
      ]
    },
    {
      "cell_type": "code",
      "source": [
        "df[\"RangoPoblacional\"]=df.Edad.apply(CalculoRangoPoblacional)"
      ],
      "metadata": {
        "id": "PDfxVVDgXfg5"
      },
      "execution_count": 64,
      "outputs": []
    },
    {
      "cell_type": "code",
      "source": [
        "df.RangoPoblacional.value_counts()"
      ],
      "metadata": {
        "colab": {
          "base_uri": "https://localhost:8080/"
        },
        "id": "rphhk6RuX2HJ",
        "outputId": "fdca2419-440c-4eac-de67-658bef26e8ff"
      },
      "execution_count": 66,
      "outputs": [
        {
          "output_type": "execute_result",
          "data": {
            "text/plain": [
              "Adulto         18715\n",
              "Joven          11013\n",
              "AdultoMayor      272\n",
              "Name: RangoPoblacional, dtype: int64"
            ]
          },
          "metadata": {},
          "execution_count": 66
        }
      ]
    },
    {
      "cell_type": "code",
      "source": [
        "(df.RangoPoblacional.value_counts()/len(df))*100"
      ],
      "metadata": {
        "colab": {
          "base_uri": "https://localhost:8080/"
        },
        "id": "K1_EdHfGX_u1",
        "outputId": "699e4f97-0c93-4a7e-f311-c579d0c8cec8"
      },
      "execution_count": 68,
      "outputs": [
        {
          "output_type": "execute_result",
          "data": {
            "text/plain": [
              "Adulto         62.383333\n",
              "Joven          36.710000\n",
              "AdultoMayor     0.906667\n",
              "Name: RangoPoblacional, dtype: float64"
            ]
          },
          "metadata": {},
          "execution_count": 68
        }
      ]
    },
    {
      "cell_type": "markdown",
      "source": [
        "## Función género (1: Hombre, 2: Mujer)"
      ],
      "metadata": {
        "id": "qse0a91iY0OD"
      }
    },
    {
      "cell_type": "code",
      "source": [
        "df.Genero"
      ],
      "metadata": {
        "colab": {
          "base_uri": "https://localhost:8080/"
        },
        "id": "GfCqbBkKY-Bd",
        "outputId": "8dda2681-35c4-4ee0-80cc-dd4a53d315f0"
      },
      "execution_count": 69,
      "outputs": [
        {
          "output_type": "execute_result",
          "data": {
            "text/plain": [
              "0        2\n",
              "1        2\n",
              "2        2\n",
              "3        2\n",
              "4        1\n",
              "        ..\n",
              "29995    1\n",
              "29996    1\n",
              "29997    1\n",
              "29998    1\n",
              "29999    1\n",
              "Name: Genero, Length: 30000, dtype: int64"
            ]
          },
          "metadata": {},
          "execution_count": 69
        }
      ]
    },
    {
      "cell_type": "code",
      "source": [
        "def CalculoGenero(Genero):\n",
        "  if (Genero == 1):\n",
        "    Sexo=\"Hombre\"\n",
        "  elif (Genero == 2):\n",
        "    Sexo=\"Mujer\"\n",
        "  else:\n",
        "    Sexo=\"VerificarGenero\"\n",
        "  return Sexo"
      ],
      "metadata": {
        "id": "o0oX_cKSZLSl"
      },
      "execution_count": 70,
      "outputs": []
    },
    {
      "cell_type": "code",
      "source": [
        "df.Genero.apply(CalculoGenero)"
      ],
      "metadata": {
        "colab": {
          "base_uri": "https://localhost:8080/"
        },
        "id": "b2AWh3iwaAXc",
        "outputId": "07a4ed05-7e7a-4dd9-fb5e-d462ec8fbc4b"
      },
      "execution_count": 72,
      "outputs": [
        {
          "output_type": "execute_result",
          "data": {
            "text/plain": [
              "<bound method IndexOpsMixin.value_counts of 0         Mujer\n",
              "1         Mujer\n",
              "2         Mujer\n",
              "3         Mujer\n",
              "4        Hombre\n",
              "          ...  \n",
              "29995    Hombre\n",
              "29996    Hombre\n",
              "29997    Hombre\n",
              "29998    Hombre\n",
              "29999    Hombre\n",
              "Name: Genero, Length: 30000, dtype: object>"
            ]
          },
          "metadata": {},
          "execution_count": 72
        }
      ]
    },
    {
      "cell_type": "code",
      "source": [
        "df[\"Sexo\"]=df.Genero.apply(CalculoGenero)"
      ],
      "metadata": {
        "id": "jPlgUmeJai85"
      },
      "execution_count": 73,
      "outputs": []
    },
    {
      "cell_type": "code",
      "source": [
        "df.Sexo.value_counts()"
      ],
      "metadata": {
        "colab": {
          "base_uri": "https://localhost:8080/"
        },
        "id": "rfMpP1MuayJI",
        "outputId": "6b68b008-1a05-421a-a156-eb901dbcd89a"
      },
      "execution_count": 75,
      "outputs": [
        {
          "output_type": "execute_result",
          "data": {
            "text/plain": [
              "Mujer     18112\n",
              "Hombre    11888\n",
              "Name: Sexo, dtype: int64"
            ]
          },
          "metadata": {},
          "execution_count": 75
        }
      ]
    }
  ]
}