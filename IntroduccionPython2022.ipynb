{
  "nbformat": 4,
  "nbformat_minor": 0,
  "metadata": {
    "colab": {
      "name": "IntroduccionPython2022.ipynb",
      "provenance": [],
      "toc_visible": true,
      "collapsed_sections": [],
      "authorship_tag": "ABX9TyMlXN/83aSoSryR5h10AQ8B",
      "include_colab_link": true
    },
    "kernelspec": {
      "name": "python3",
      "display_name": "Python 3"
    },
    "language_info": {
      "name": "python"
    }
  },
  "cells": [
    {
      "cell_type": "markdown",
      "metadata": {
        "id": "view-in-github",
        "colab_type": "text"
      },
      "source": [
        "<a href=\"https://colab.research.google.com/github/jkrestrepo/IntroPython/blob/main/IntroduccionPython2022.ipynb\" target=\"_parent\"><img src=\"https://colab.research.google.com/assets/colab-badge.svg\" alt=\"Open In Colab\"/></a>"
      ]
    },
    {
      "cell_type": "markdown",
      "source": [
        "# **1) Introducción a Python**\n",
        "Se trata de un lenguaje de programación de alto nivel multiparadigma, ya que soporta orientación a objetos, programación imperativa y, en menor medida, programación funcional. Es un lenguaje interpretado, dinámico y multiplataforma\"\n",
        "\n",
        "<img src=\"https://empresas.blogthinkbig.com/wp-content/uploads/2019/10/python.png?resize=289%2C288\" width=200, align=\"center\" >"
      ],
      "metadata": {
        "id": "xMI2Sc_UmoeD"
      }
    },
    {
      "cell_type": "markdown",
      "source": [
        "## **1.1) Python Para Ciencia de Datos**\n",
        "Según lo revelado por los resultados de una encuesta realizada por Kaggle una plataforna de científicos de datos, Python es el más usado en cuanto a lenguaje de programación, seguido de SQL y R para el tema de ciencia de Datos"
      ],
      "metadata": {
        "id": "zvzjvYwZOmyK"
      }
    },
    {
      "cell_type": "markdown",
      "source": [
        "## **1.1.1) Librerías para ciencia de datos**\n",
        "* **Numpy:** NumPy es una biblioteca de Python muy popular para el procesamiento de matrices y matrices multidimensionales de gran tamaño.\n",
        "* **Scipy:**  SciPy es una biblioteca muy popular entre los entusiastas del aprendizaje automático, ya que contiene diferentes módulos para optimización, álgebra lineal, integración y estadísticas.\n",
        "\n",
        "\n"
      ],
      "metadata": {
        "id": "jsTrm_3CPXWj"
      }
    },
    {
      "cell_type": "markdown",
      "source": [
        "# **2) Trabajar Con Librerías**\n"
      ],
      "metadata": {
        "id": "P4WmwfL9VaD7"
      }
    },
    {
      "cell_type": "markdown",
      "source": [
        "## **2.1) Instalar** "
      ],
      "metadata": {
        "id": "6lwraIzxVlJc"
      }
    },
    {
      "cell_type": "code",
      "source": [
        "#!pip install prophe"
      ],
      "metadata": {
        "id": "GsKyR9AgWYss"
      },
      "execution_count": 1,
      "outputs": []
    },
    {
      "cell_type": "markdown",
      "source": [
        "## **2.2) Importar Librerías**"
      ],
      "metadata": {
        "id": "o_f7aw28WGgC"
      }
    },
    {
      "cell_type": "markdown",
      "source": [
        "### **2.2.1) Forma Directa**"
      ],
      "metadata": {
        "id": "x4n-oijPWvqJ"
      }
    },
    {
      "cell_type": "code",
      "source": [
        "import pandas"
      ],
      "metadata": {
        "id": "C8n1V-i3WqZr"
      },
      "execution_count": 2,
      "outputs": []
    },
    {
      "cell_type": "code",
      "source": [
        "#pandas.read_excel(\"\") leer excel"
      ],
      "metadata": {
        "id": "k2CPtoX5W6yY"
      },
      "execution_count": null,
      "outputs": []
    },
    {
      "cell_type": "markdown",
      "source": [
        "### **2.2.2) Forma Indirecta**"
      ],
      "metadata": {
        "id": "SXQf5Ij2XEdZ"
      }
    },
    {
      "cell_type": "code",
      "source": [
        "import pandas as pd\n",
        "import numpy as np"
      ],
      "metadata": {
        "id": "glhcNeP_XMFm"
      },
      "execution_count": null,
      "outputs": []
    },
    {
      "cell_type": "code",
      "source": [
        "#pd.read_excel(\"\")"
      ],
      "metadata": {
        "id": "3HIxy30ZXSMH"
      },
      "execution_count": null,
      "outputs": []
    },
    {
      "cell_type": "markdown",
      "source": [
        "### **2.2.3) Importar Módulos**"
      ],
      "metadata": {
        "id": "JpuS348ma8Py"
      }
    },
    {
      "cell_type": "code",
      "source": [
        "#import sklearn\n",
        "from sklearn import tree"
      ],
      "metadata": {
        "id": "wUZX8Z2dbZLt"
      },
      "execution_count": null,
      "outputs": []
    },
    {
      "cell_type": "code",
      "source": [
        "#tree.DecisionTreeClassifier()"
      ],
      "metadata": {
        "id": "5agyFp_db7tJ"
      },
      "execution_count": null,
      "outputs": []
    },
    {
      "cell_type": "markdown",
      "source": [
        "## **2.3)**"
      ],
      "metadata": {
        "id": "ts2S2EqPWGr0"
      }
    },
    {
      "cell_type": "markdown",
      "source": [
        "# **3) Primeros Pasos con Python**"
      ],
      "metadata": {
        "id": "UEosOssucEw2"
      }
    },
    {
      "cell_type": "markdown",
      "source": [
        "## **3.1) Calculadora**"
      ],
      "metadata": {
        "id": "Tb5ISu0JcQpt"
      }
    },
    {
      "cell_type": "code",
      "source": [
        "## Suma\n",
        "5+7"
      ],
      "metadata": {
        "colab": {
          "base_uri": "https://localhost:8080/"
        },
        "id": "2ioFh2UWcY-J",
        "outputId": "2d7be2e3-4afa-44e2-917a-d4e926de3308"
      },
      "execution_count": 3,
      "outputs": [
        {
          "output_type": "execute_result",
          "data": {
            "text/plain": [
              "12"
            ]
          },
          "metadata": {},
          "execution_count": 3
        }
      ]
    },
    {
      "cell_type": "code",
      "source": [
        "## Resta\n",
        "9-5"
      ],
      "metadata": {
        "colab": {
          "base_uri": "https://localhost:8080/"
        },
        "id": "KKyc-UvWcfCo",
        "outputId": "80e822ed-86c2-4764-a83b-8d85cd387e2d"
      },
      "execution_count": 4,
      "outputs": [
        {
          "output_type": "execute_result",
          "data": {
            "text/plain": [
              "4"
            ]
          },
          "metadata": {},
          "execution_count": 4
        }
      ]
    },
    {
      "cell_type": "code",
      "source": [
        "## Multiplicación\n",
        "6*3"
      ],
      "metadata": {
        "colab": {
          "base_uri": "https://localhost:8080/"
        },
        "id": "p4HZi5HRckNV",
        "outputId": "34084c8d-fca4-42b4-ffd1-a4b25f5ed1c9"
      },
      "execution_count": 5,
      "outputs": [
        {
          "output_type": "execute_result",
          "data": {
            "text/plain": [
              "18"
            ]
          },
          "metadata": {},
          "execution_count": 5
        }
      ]
    },
    {
      "cell_type": "code",
      "source": [
        "## División\n",
        "8/4"
      ],
      "metadata": {
        "colab": {
          "base_uri": "https://localhost:8080/"
        },
        "id": "01mG6U7BcrRr",
        "outputId": "f3dc4d17-cd85-430e-899c-964664a4357e"
      },
      "execution_count": 6,
      "outputs": [
        {
          "output_type": "execute_result",
          "data": {
            "text/plain": [
              "2.0"
            ]
          },
          "metadata": {},
          "execution_count": 6
        }
      ]
    },
    {
      "cell_type": "code",
      "source": [
        "## Potenciación\n",
        "9**2"
      ],
      "metadata": {
        "colab": {
          "base_uri": "https://localhost:8080/"
        },
        "id": "u31UYMcmcyHs",
        "outputId": "8ab298c7-3c46-44b3-85b8-34d28ff1ce71"
      },
      "execution_count": 7,
      "outputs": [
        {
          "output_type": "execute_result",
          "data": {
            "text/plain": [
              "81"
            ]
          },
          "metadata": {},
          "execution_count": 7
        }
      ]
    },
    {
      "cell_type": "markdown",
      "source": [
        "## **3.2) Variables en Python**"
      ],
      "metadata": {
        "id": "0o5nFC41dBcd"
      }
    },
    {
      "cell_type": "markdown",
      "source": [
        "#### **3.2.1) Enteros y Float**"
      ],
      "metadata": {
        "id": "x-V6CJb5dgVo"
      }
    },
    {
      "cell_type": "code",
      "source": [
        "## int\n",
        "Edad=45"
      ],
      "metadata": {
        "id": "i2HZZJo7dpNx"
      },
      "execution_count": 9,
      "outputs": []
    },
    {
      "cell_type": "code",
      "source": [
        "type(Edad)"
      ],
      "metadata": {
        "colab": {
          "base_uri": "https://localhost:8080/"
        },
        "id": "lKo8PJ6Kdx8w",
        "outputId": "36b8bbc6-2273-45ff-d0a9-2f8ed92460a1"
      },
      "execution_count": 10,
      "outputs": [
        {
          "output_type": "execute_result",
          "data": {
            "text/plain": [
              "int"
            ]
          },
          "metadata": {},
          "execution_count": 10
        }
      ]
    },
    {
      "cell_type": "code",
      "source": [
        "print(Edad)"
      ],
      "metadata": {
        "colab": {
          "base_uri": "https://localhost:8080/"
        },
        "id": "v5k4unaed1DI",
        "outputId": "06546886-8fd6-4abf-af14-1e2fb84d4a86"
      },
      "execution_count": 11,
      "outputs": [
        {
          "output_type": "stream",
          "name": "stdout",
          "text": [
            "45\n"
          ]
        }
      ]
    },
    {
      "cell_type": "code",
      "source": [
        "## Float\n",
        "Pi=3.1416"
      ],
      "metadata": {
        "id": "QEE_Y7GChoR7"
      },
      "execution_count": 12,
      "outputs": []
    },
    {
      "cell_type": "code",
      "source": [
        "type(Pi)\n"
      ],
      "metadata": {
        "colab": {
          "base_uri": "https://localhost:8080/"
        },
        "id": "zPy7tGDnh1lp",
        "outputId": "63bbf9e8-d072-42ff-ac93-1dc8d083511e"
      },
      "execution_count": 13,
      "outputs": [
        {
          "output_type": "execute_result",
          "data": {
            "text/plain": [
              "float"
            ]
          },
          "metadata": {},
          "execution_count": 13
        }
      ]
    },
    {
      "cell_type": "code",
      "source": [
        "## Convertir Float a Int\n",
        "int(Pi)"
      ],
      "metadata": {
        "colab": {
          "base_uri": "https://localhost:8080/"
        },
        "id": "E6Xh-rMQiLyk",
        "outputId": "0f61ecb8-e4f2-4151-966e-b9e498839e87"
      },
      "execution_count": 14,
      "outputs": [
        {
          "output_type": "execute_result",
          "data": {
            "text/plain": [
              "3"
            ]
          },
          "metadata": {},
          "execution_count": 14
        }
      ]
    },
    {
      "cell_type": "code",
      "source": [
        "## Convertir Int a Float\n",
        "float(Edad)"
      ],
      "metadata": {
        "colab": {
          "base_uri": "https://localhost:8080/"
        },
        "id": "JtPfC71hiOC3",
        "outputId": "97eb0a1d-16e3-4d23-a17a-5f2f7c27b2ce"
      },
      "execution_count": 17,
      "outputs": [
        {
          "output_type": "execute_result",
          "data": {
            "text/plain": [
              "45.0"
            ]
          },
          "metadata": {},
          "execution_count": 17
        }
      ]
    },
    {
      "cell_type": "markdown",
      "source": [
        "#### **3.2.2) String**"
      ],
      "metadata": {
        "id": "lGpsK09Big_j"
      }
    },
    {
      "cell_type": "code",
      "source": [
        "## Van en \"\" ó ''\n",
        "Nombre=\"Juan\""
      ],
      "metadata": {
        "id": "0ykUJHQQi-XO"
      },
      "execution_count": 20,
      "outputs": []
    },
    {
      "cell_type": "code",
      "source": [
        "Apellido='Restrepo'"
      ],
      "metadata": {
        "id": "Ne8DdshtjEXC"
      },
      "execution_count": 24,
      "outputs": []
    },
    {
      "cell_type": "code",
      "source": [
        "type(Nombre)"
      ],
      "metadata": {
        "colab": {
          "base_uri": "https://localhost:8080/"
        },
        "id": "_3STyWsijVeT",
        "outputId": "e73c86c3-198c-4f3c-b8f6-cf1345089787"
      },
      "execution_count": 22,
      "outputs": [
        {
          "output_type": "execute_result",
          "data": {
            "text/plain": [
              "str"
            ]
          },
          "metadata": {},
          "execution_count": 22
        }
      ]
    },
    {
      "cell_type": "code",
      "source": [
        "type(Apellido)"
      ],
      "metadata": {
        "colab": {
          "base_uri": "https://localhost:8080/"
        },
        "id": "Tq2pBJDgjZHz",
        "outputId": "32aca9c6-ac33-448b-97e0-f0640f2f14e1"
      },
      "execution_count": 23,
      "outputs": [
        {
          "output_type": "execute_result",
          "data": {
            "text/plain": [
              "str"
            ]
          },
          "metadata": {},
          "execution_count": 23
        }
      ]
    },
    {
      "cell_type": "code",
      "source": [
        "## Unión de Strings\n",
        "NombreCompleto=Nombre + \" \" + Apellido"
      ],
      "metadata": {
        "id": "tuFYVvikjxnn"
      },
      "execution_count": 26,
      "outputs": []
    },
    {
      "cell_type": "code",
      "source": [
        "print(NombreCompleto)"
      ],
      "metadata": {
        "colab": {
          "base_uri": "https://localhost:8080/"
        },
        "id": "i9faF9w5kAjD",
        "outputId": "33ff2735-dbf0-4852-8bd5-1765945264c2"
      },
      "execution_count": 27,
      "outputs": [
        {
          "output_type": "stream",
          "name": "stdout",
          "text": [
            "Juan Restrepo\n"
          ]
        }
      ]
    },
    {
      "cell_type": "code",
      "source": [
        "CelularProfe='3217291122'"
      ],
      "metadata": {
        "id": "I52DIWspkgOC"
      },
      "execution_count": 29,
      "outputs": []
    },
    {
      "cell_type": "code",
      "source": [
        "Operador=str(CelularProfe[0:3])"
      ],
      "metadata": {
        "id": "E_RVRM6YkqEe"
      },
      "execution_count": 34,
      "outputs": []
    },
    {
      "cell_type": "code",
      "source": [
        "type(Operador)"
      ],
      "metadata": {
        "colab": {
          "base_uri": "https://localhost:8080/"
        },
        "id": "G0S4Hb_ElEex",
        "outputId": "5659970c-cce9-4492-f5a8-50778323d442"
      },
      "execution_count": 35,
      "outputs": [
        {
          "output_type": "execute_result",
          "data": {
            "text/plain": [
              "str"
            ]
          },
          "metadata": {},
          "execution_count": 35
        }
      ]
    },
    {
      "cell_type": "code",
      "source": [
        "## Separar Strings\n",
        "NombreCompleto.split(\" \")"
      ],
      "metadata": {
        "colab": {
          "base_uri": "https://localhost:8080/"
        },
        "id": "EkB09uESlmp4",
        "outputId": "cbc392c7-851c-45df-8c20-6a5dd928a332"
      },
      "execution_count": 37,
      "outputs": [
        {
          "output_type": "execute_result",
          "data": {
            "text/plain": [
              "['Juan', 'Restrepo']"
            ]
          },
          "metadata": {},
          "execution_count": 37
        }
      ]
    },
    {
      "cell_type": "markdown",
      "source": [
        "# **4) Estructuras de Datos**\n"
      ],
      "metadata": {
        "id": "-I03sbjcnIEA"
      }
    },
    {
      "cell_type": "markdown",
      "source": [
        "## **4.1) Listas**"
      ],
      "metadata": {
        "id": "YFlrkfMEnQ8u"
      }
    },
    {
      "cell_type": "code",
      "source": [
        "# Lisas se crean con []\n",
        "Edades=[25,45,89,63,12,17,56,37,76,62,29,24]"
      ],
      "metadata": {
        "id": "bW9dPbD2nXTR"
      },
      "execution_count": 38,
      "outputs": []
    },
    {
      "cell_type": "code",
      "source": [
        "# Cantidad\n",
        "len(Edades)"
      ],
      "metadata": {
        "colab": {
          "base_uri": "https://localhost:8080/"
        },
        "id": "hWZzGD8fnYjs",
        "outputId": "fb087b29-22ca-4d5e-af3f-c8521158cdc4"
      },
      "execution_count": 40,
      "outputs": [
        {
          "output_type": "execute_result",
          "data": {
            "text/plain": [
              "12"
            ]
          },
          "metadata": {},
          "execution_count": 40
        }
      ]
    },
    {
      "cell_type": "code",
      "source": [
        "# Acceder al registro X\n",
        "Edades[3]"
      ],
      "metadata": {
        "colab": {
          "base_uri": "https://localhost:8080/"
        },
        "id": "405jto-yn2J7",
        "outputId": "45a55f67-4a9d-40ff-82c4-0c3c9420aa90"
      },
      "execution_count": 41,
      "outputs": [
        {
          "output_type": "execute_result",
          "data": {
            "text/plain": [
              "63"
            ]
          },
          "metadata": {},
          "execution_count": 41
        }
      ]
    },
    {
      "cell_type": "code",
      "source": [
        "## Acceder al último dato\n",
        "Edades[-1]"
      ],
      "metadata": {
        "colab": {
          "base_uri": "https://localhost:8080/"
        },
        "id": "0vckseISn2Bi",
        "outputId": "20ac1575-1aa2-419d-8cba-a33895e14444"
      },
      "execution_count": 43,
      "outputs": [
        {
          "output_type": "execute_result",
          "data": {
            "text/plain": [
              "24"
            ]
          },
          "metadata": {},
          "execution_count": 43
        }
      ]
    },
    {
      "cell_type": "code",
      "source": [
        "# Listas múltiples\n",
        "ListaRandom=[15,78,96,45,35,\"Luis\",\"Pedro\",\"Maria\",\"Teresa\",\"Juan\",\"Alba\",[\"python\",\"java\"]]"
      ],
      "metadata": {
        "id": "I0-bE_5Tn15x"
      },
      "execution_count": 44,
      "outputs": []
    },
    {
      "cell_type": "code",
      "source": [
        "ListaRandom[-1][0]"
      ],
      "metadata": {
        "colab": {
          "base_uri": "https://localhost:8080/",
          "height": 35
        },
        "id": "vw2qhnpMn1x4",
        "outputId": "ade6b2e8-2b3b-4430-e0b5-d67c0273ad49"
      },
      "execution_count": 46,
      "outputs": [
        {
          "output_type": "execute_result",
          "data": {
            "text/plain": [
              "'python'"
            ],
            "application/vnd.google.colaboratory.intrinsic+json": {
              "type": "string"
            }
          },
          "metadata": {},
          "execution_count": 46
        }
      ]
    },
    {
      "cell_type": "code",
      "source": [
        "ListaRandom.append(3000)"
      ],
      "metadata": {
        "id": "22NXuHaKpGNf"
      },
      "execution_count": 47,
      "outputs": []
    },
    {
      "cell_type": "code",
      "source": [
        "print(ListaRandom)"
      ],
      "metadata": {
        "colab": {
          "base_uri": "https://localhost:8080/"
        },
        "id": "Eh0JtiYupGXV",
        "outputId": "b22eaa33-c7a3-4a6e-b1be-0e4d5115415a"
      },
      "execution_count": 59,
      "outputs": [
        {
          "output_type": "stream",
          "name": "stdout",
          "text": [
            "[15, 45, 78, 96, 45, 35, 'Luis', 'Pedro', 'Maria', 'Teresa', 'Juan', 'Alba', ['python', 'java'], 3000]\n"
          ]
        }
      ]
    },
    {
      "cell_type": "code",
      "source": [
        "print(f'Los valores en la lista son: {ListaRandom}')"
      ],
      "metadata": {
        "colab": {
          "base_uri": "https://localhost:8080/"
        },
        "id": "Mowv3tocpGfN",
        "outputId": "2a62b376-af69-4e8e-f9cc-6bca5bfe8066"
      },
      "execution_count": 49,
      "outputs": [
        {
          "output_type": "stream",
          "name": "stdout",
          "text": [
            "Los valores en la lista son: [15, 78, 96, 45, 35, 'Luis', 'Pedro', 'Maria', 'Teresa', 'Juan', 'Alba', ['python', 'java'], 3000]\n"
          ]
        }
      ]
    },
    {
      "cell_type": "code",
      "source": [
        "Edades.sort(reverse=False)"
      ],
      "metadata": {
        "id": "Cx_NyjZMptSs"
      },
      "execution_count": 56,
      "outputs": []
    },
    {
      "cell_type": "code",
      "source": [
        "Edades"
      ],
      "metadata": {
        "colab": {
          "base_uri": "https://localhost:8080/"
        },
        "id": "7Lcvo5S7ptgf",
        "outputId": "f396c55a-e7ee-4e9e-b3f0-aa317776eeaf"
      },
      "execution_count": 57,
      "outputs": [
        {
          "output_type": "execute_result",
          "data": {
            "text/plain": [
              "[12, 17, 24, 25, 29, 37, 45, 56, 62, 63, 76, 89]"
            ]
          },
          "metadata": {},
          "execution_count": 57
        }
      ]
    },
    {
      "cell_type": "code",
      "source": [
        "# Insertar elemento con posición\n",
        "ListaRandom.insert(1,45)"
      ],
      "metadata": {
        "id": "vo4vl7Ykptob"
      },
      "execution_count": 58,
      "outputs": []
    },
    {
      "cell_type": "code",
      "source": [
        ""
      ],
      "metadata": {
        "id": "L18ls0U_ptvk"
      },
      "execution_count": null,
      "outputs": []
    }
  ]
}