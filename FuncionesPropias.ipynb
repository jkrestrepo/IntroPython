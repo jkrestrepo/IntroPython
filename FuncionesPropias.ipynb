{
  "nbformat": 4,
  "nbformat_minor": 0,
  "metadata": {
    "colab": {
      "provenance": [],
      "collapsed_sections": [],
      "authorship_tag": "ABX9TyNHS2KSoecYktEwfVvWhodl",
      "include_colab_link": true
    },
    "kernelspec": {
      "name": "python3",
      "display_name": "Python 3"
    },
    "language_info": {
      "name": "python"
    }
  },
  "cells": [
    {
      "cell_type": "markdown",
      "metadata": {
        "id": "view-in-github",
        "colab_type": "text"
      },
      "source": [
        "<a href=\"https://colab.research.google.com/github/jkrestrepo/IntroPython/blob/main/FuncionesPropias.ipynb\" target=\"_parent\"><img src=\"https://colab.research.google.com/assets/colab-badge.svg\" alt=\"Open In Colab\"/></a>"
      ]
    },
    {
      "cell_type": "code",
      "source": [
        "def CalculoRangoPoblacional(Edad):\n",
        "  if (Edad >= 18 and Edad <= 30):\n",
        "    GrupoPoblacional=\"Joven\"\n",
        "  elif (Edad > 30 and Edad <= 60):\n",
        "    GrupoPoblacional=\"Adulto\"\n",
        "  elif (Edad > 60 and Edad <= 110):\n",
        "    GrupoPoblacional=\"AdultoMayor\"\n",
        "  elif (Edad > 110):\n",
        "    GrupoPoblacional=\"ValidarAdultoMayor\"\n",
        "  else:\n",
        "    GrupoPoblacional=\"ValidarMenorEdad\"\n",
        "  return GrupoPoblacional"
      ],
      "metadata": {
        "id": "TFX2GZCiO1Lq"
      },
      "execution_count": 2,
      "outputs": []
    },
    {
      "cell_type": "code",
      "source": [
        "def CalculoMayEdad(Edad):\n",
        "  if (Edad >= 18 and Edad <= 110):\n",
        "    GrupoEdad=\"Mayor\"\n",
        "  elif (Edad < 18):\n",
        "    GrupoEdad=\"Menor\"\n",
        "  elif (Edad > 110):\n",
        "    GrupoEdad=\"ValidarMayor\"\n",
        "  return GrupoEdad"
      ],
      "metadata": {
        "id": "muxij4VzBKA2"
      },
      "execution_count": 11,
      "outputs": []
    },
    {
      "cell_type": "code",
      "source": [
        "CalculoMayEdad(18)"
      ],
      "metadata": {
        "colab": {
          "base_uri": "https://localhost:8080/",
          "height": 35
        },
        "id": "KQ7R_XJ7Cf3S",
        "outputId": "24512e61-da59-45d3-f688-722789c894ce"
      },
      "execution_count": 13,
      "outputs": [
        {
          "output_type": "execute_result",
          "data": {
            "text/plain": [
              "'Mayor'"
            ],
            "application/vnd.google.colaboratory.intrinsic+json": {
              "type": "string"
            }
          },
          "metadata": {},
          "execution_count": 13
        }
      ]
    },
    {
      "cell_type": "code",
      "execution_count": 4,
      "metadata": {
        "id": "CLTMHmNJOq0D"
      },
      "outputs": [],
      "source": [
        "def CalculoGenero(Genero):\n",
        "  if (Genero == 1):\n",
        "    DescGenero=\"Masculino\"\n",
        "  elif (Genero == 2):\n",
        "    DescGenero=\"Femenino\"\n",
        "  else:\n",
        "    DescGenero=\"No Clasificado\"\n",
        "  return DescGenero"
      ]
    },
    {
      "cell_type": "code",
      "source": [
        "def CalculoEstadoCivil(EstadoCivil):\n",
        "  if (EstadoCivil == 1):\n",
        "    EstCivil=\"Casado\"\n",
        "  elif (EstadoCivil == 2):\n",
        "    EstCivil=\"Soltero\"\n",
        "  elif (EstadoCivil == 3):\n",
        "    EstCivil=\"Otros\"\n",
        "  else:\n",
        "    EstCivil=\"No Clasificado\"\n",
        "  return EstCivil"
      ],
      "metadata": {
        "id": "RuZxd15-QapR"
      },
      "execution_count": 5,
      "outputs": []
    },
    {
      "cell_type": "code",
      "source": [
        "# EDUCACIÓN : (1 = posgrado, 2 = universidad, 3 = bachillerato, 4 = otros, 5 = desconocido, 6 = desconocido)\n",
        "def CalculoEducacion(Educacion):\n",
        "  if (Educacion == 1):\n",
        "    EducacionHomo=\"Posgrado\"\n",
        "  elif (Educacion == 2):\n",
        "    EducacionHomo=\"Universidad\"\n",
        "  elif (Educacion == 3):\n",
        "    EducacionHomo=\"Bachillerato\"\n",
        "  elif (Educacion == 4):\n",
        "    EducacionHomo=\"Otros\"\n",
        "  elif (Educacion == 5):\n",
        "    EducacionHomo=\"Desconocido\"\n",
        "  else:\n",
        "    EducacionHomo=\"No Clasificado\"\n",
        "  return EducacionHomo"
      ],
      "metadata": {
        "id": "IwTYIlOrRdkx"
      },
      "execution_count": 6,
      "outputs": []
    }
  ]
}